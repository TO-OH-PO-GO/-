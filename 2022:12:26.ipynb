{
 "cells": [
  {
   "cell_type": "code",
   "execution_count": 5,
   "metadata": {},
   "outputs": [
    {
     "name": "stdout",
     "output_type": "stream",
     "text": [
      "55\n"
     ]
    }
   ],
   "source": [
    "def AAA(*a):\n",
    "    b=0 # for 루프전 한번 선언한는 것이 중요하다....... 선언하지 않으면 에러 발생\n",
    "    for x in a:\n",
    "        b = b+x\n",
    "    return b\n",
    "\n",
    "print(AAA(1,2,3,4,5,6,7,8,9,10))"
   ]
  },
  {
   "cell_type": "code",
   "execution_count": 28,
   "metadata": {},
   "outputs": [
    {
     "name": "stdout",
     "output_type": "stream",
     "text": [
      "7! => 5040\n"
     ]
    }
   ],
   "source": [
    "#---------------------------------\n",
    "#기능 : 숫자 곱셈후 경과 반환\n",
    "#함수명 : AAA\n",
    "# 매개변수 : *a \n",
    "#---------------------------------\n",
    "\n",
    "# 함수 사용 \n",
    "\n",
    "\n",
    "\n",
    "def AAA(*a): # 가변인자는 튜플 값을 가지고 * 를 통해서 함수에 삽입가능하다.......\n",
    "    b =1\n",
    "    for x in a:\n",
    "        b = b*x\n",
    "    return print(f'{a[-1]}! => {b}')\n",
    "\n",
    "AAA(1,2,3,4,5,6,7)"
   ]
  },
  {
   "cell_type": "code",
   "execution_count": 9,
   "metadata": {},
   "outputs": [
    {
     "name": "stdout",
     "output_type": "stream",
     "text": [
      "<class 'tuple'>\n",
      "<class 'tuple'>\n"
     ]
    }
   ],
   "source": [
    "#\n",
    "def getTotal(*nums):\n",
    "    print(type(nums))\n",
    "\n",
    "getTotal() # 빈 튜플\n",
    "getTotal(1,2,3,4,5,6)"
   ]
  },
  {
   "cell_type": "code",
   "execution_count": null,
   "metadata": {},
   "outputs": [],
   "source": [
    "#딕트 타입으로 변수를 받은 함수 \n",
    "# 키워드 파라미터\n",
    "# 변수 선언시 변수에 **\n",
    "#----------------------\n",
    "# 함수명 AAA\n",
    "# 변수명 : **a\n",
    "def AAA(**a): # 이런식으로 선언 한다."
   ]
  },
  {
   "cell_type": "code",
   "execution_count": 14,
   "metadata": {},
   "outputs": [
    {
     "name": "stdout",
     "output_type": "stream",
     "text": [
      "5\n"
     ]
    }
   ],
   "source": [
    "#--------------\n",
    "#함수명 : AAA\n",
    "#---------------\n",
    "def AAA(a,b=0): # b=0는 디폴트 밸류로 설정 되어있습니다.....하지만 첫번째 변수에는 디폴트 밸류를 잡으면 안됩니다. 디폴트 벨류는 항상 뒤에 변수값에 두는 것이 에러를 피할수 있다........\n",
    "    return print(a+b)\n",
    "AAA(5)"
   ]
  },
  {
   "cell_type": "code",
   "execution_count": 18,
   "metadata": {},
   "outputs": [
    {
     "name": "stdout",
     "output_type": "stream",
     "text": [
      "6\n",
      "9\n"
     ]
    }
   ],
   "source": [
    "#--------\n",
    "# 함수명 AAA \n",
    "#--------\n",
    "# 수자 3개 젓셈후 결과 반환\n",
    "\n",
    "def AAA(a,b=5,c=7): # 디폴트 값이 선언되어 있더라도 함수 호출시 선언해준 변수 값으로 계산을 실행해준다.\n",
    "    return a+b+c\n",
    "\n",
    "print((AAA(1,2,3)))\n",
    "print(AAA(1,c=3)) # 이런식으로 함수안에서 선언 된 변수(매개변수 이름) 에 직접 값을 선언 해줘야 한다........자주 사용되는 방법이다...."
   ]
  },
  {
   "cell_type": "code",
   "execution_count": 23,
   "metadata": {},
   "outputs": [
    {
     "name": "stdout",
     "output_type": "stream",
     "text": [
      "99\n",
      "6\n"
     ]
    }
   ],
   "source": [
    "#-----------\n",
    "# 기능 :  2개 이상의  데이터 덧셈 후 결과 반환\n",
    "#함수명 : AAA\n",
    "# 매개 변수 : a,b,c=0,b=0,d=0\n",
    "#덧셈결과\n",
    "#-----------\n",
    "def AAA(a,b,*c): # 이런식으로 고정 변수와 가변매개변수를 섞어서 사용가능하다......\n",
    "    f= a+b \n",
    "    for x in c :\n",
    "        f = f+x\n",
    "    return f\n",
    "print(AAA(1,2,3,4,5,6,78))\n",
    "print(AAA(1,2,3))\n"
   ]
  },
  {
   "cell_type": "code",
   "execution_count": null,
   "metadata": {},
   "outputs": [],
   "source": [
    "# 클래스 만들기.....\n",
    "# 인스턴스화 이해를 잘해야 한다....\n",
    "# "
   ]
  },
  {
   "cell_type": "code",
   "execution_count": null,
   "metadata": {},
   "outputs": [],
   "source": [
    "# 회원가입 함수 => 아이디, 비밀번호, 메일 , 전화, 지역 , 직업 , 나이......\n",
    "# 함수명 : AAA\n",
    "# 매개변수 : id,pw,email,phone,*data\n",
    "#--------------------------------------------------------------\n",
    "def AAA(id,pw,email,phone,**data):\n",
    "    print(type(data))\n",
    "    # person_info = []\n",
    "    # person_info.append(id)\n",
    "    # person_info.append(pw)\n",
    "    # person_info.append(email)\n",
    "    # person_info.append(phone)\n",
    "    person_info = {}\n",
    "    person_info[\"id\"] = id\n",
    "    person_info['pw'] = pw\n",
    "    person_info['email'] = email\n",
    "    person_info[\"phone\"] = phone\n",
    "\n",
    "    for x in data.key() :\n",
    "        person_info[x] = data [x]\n",
    "    for x in data.value() :\n",
    "        person_info[]\n",
    "\n",
    "memeber = AAA('a123','a1111','sdfsdf@gmail.com','000-0000-0000',job = 'student', age ='12') # **data 에 대응하는 것\n",
    "\n"
   ]
  },
  {
   "cell_type": "code",
   "execution_count": 29,
   "metadata": {},
   "outputs": [
    {
     "name": "stdout",
     "output_type": "stream",
     "text": [
      "3! => 3\n"
     ]
    }
   ],
   "source": [
    "# \n",
    "# 함수 타입\n",
    "#\n",
    "#type(함수명)\n",
    "# \n",
    "\n",
    "myFunc = AAA # 변수에 함수명을 저장해서 다른 이름으로 함수기능을 호출가능하다.\n",
    "\n"
   ]
  },
  {
   "cell_type": "code",
   "execution_count": 35,
   "metadata": {},
   "outputs": [
    {
     "name": "stdout",
     "output_type": "stream",
     "text": [
      "28\n"
     ]
    }
   ],
   "source": [
    "#새로운 방법 함수명을 리스트에 담는다..\n",
    "fucn = [sum,min,max]\n",
    "\n",
    "print(fucn[0]([1,2,3,4,5,6,7]))"
   ]
  },
  {
   "cell_type": "code",
   "execution_count": null,
   "metadata": {},
   "outputs": [],
   "source": [
    "# 지역변수 : 함수 안에 존재하는 함수 , 함수 애ㅔ서만 사용 가능 ,함수 실해후 메모리에서 삭제\n",
    "# 전역변수 : 함수 밖에 존재하는 함수 , 프로그램 어지서나 사용 가능, 프로그램 종료 시 메모리에 저장\n",
    "\n",
    " "
   ]
  },
  {
   "cell_type": "code",
   "execution_count": 38,
   "metadata": {},
   "outputs": [
    {
     "name": "stdout",
     "output_type": "stream",
     "text": [
      "오늘은 2022 년 12 월 23 일 입니다.\n",
      "2023\n"
     ]
    }
   ],
   "source": [
    "# -----------------------------\n",
    "# 스코프(scope)     변수가 존재할수 있는 범위\n",
    "# -----------------------------\n",
    "# -  전역변수( Global variable) : 파일 전체에서 사용되는 변수 , 같은 파일 에 존재하는 함수 , 클래스등 함께사용\n",
    "# -  지역변수( Local Variagle) : 특정 영역 안에서만 사용 가능\n",
    "# 전역변수와 변수명이 동일한 경우 : 우선은 함수내부의 변수 우선 이고 없을 경우 전역 변수를 확인한다.\n",
    "Year = 2022\n",
    "month = 12 \n",
    "def ShowToday(a):\n",
    "    global Year # 이 선언을 통해서 전역 변수의 수정, 삭제, 값 변경이 가능해진다 . 이것을 통하면 함수에서 선언 되어서 변형 되어서 기존은 변수 이름에 저장된다.\n",
    "    print(f'오늘은 {Year} 년 {month} 월 {a} 일 입니다.') \n",
    "    Year = Year +1 \n",
    "ShowToday(23)\n",
    "\n",
    "print(Year)\n",
    "\n",
    "\n",
    "# 지역 변수는 함수 밖에서는 사용이 불가능하다. 외부에서 다른 함수에서 호출해도 정의가 안돼어있기 때문에 사용 불가능하다.\n",
    "\n",
    "\n",
    "\n",
    "\n",
    "\n",
    "# 전역 변수 사용 알림 \n"
   ]
  },
  {
   "cell_type": "code",
   "execution_count": null,
   "metadata": {},
   "outputs": [],
   "source": [
    "# 함수 안애함수 를 넣을수 있다.\n",
    "# 단 가장 위 층에 있는 함수가 실행되어야지 존재하는 함수 이다.\n"
   ]
  },
  {
   "cell_type": "code",
   "execution_count": 55,
   "metadata": {},
   "outputs": [
    {
     "name": "stdout",
     "output_type": "stream",
     "text": [
      "[1, 2, 3, 4, 5, 6, 7]\n",
      "[3, 6, 9, 12, 15, 18, 21]\n",
      "[3, 6, 9, 12, 15, 18, 21]\n",
      "['111', '222', '333', '444', '555', '666', '777']\n"
     ]
    }
   ],
   "source": [
    "# lambda (람다) \n",
    "# 함수에 이름이 없는 함수이다.\n",
    "# 람다 함수라고 도 한다.\n",
    "# 익명 함수 이다.\n",
    "# 한줄 함수이다. 짧은 코드의 함수\n",
    "# 작은 기능에 반복에 자주 사용되는 함수 . \n",
    "# 문법 형식 : lambda 인자 : 실행코드\n",
    "\n",
    "a = \"1,2,3,4,5,6,7\"\n",
    "\n",
    "a = a.split(\",\")\n",
    "\n",
    "# a = [int(x) for x in a] # 리스트 컴프리 헨션을 사용하면 이렇게 사용 하면 된다.\n",
    "# b = 0 \n",
    "# print(a)\n",
    "# for _ in a:\n",
    "\n",
    "\n",
    "#  a[b]=int(a[b])\n",
    "\n",
    " \n",
    "#  b =b +1\n",
    "# print(a)\n",
    "\n",
    "# 내장 함수 map() \n",
    "def AAA(a):\n",
    "    a = int(a)\n",
    "    return a\n",
    "def BBB(a):\n",
    "    a = int(a)*3\n",
    "    return a\n",
    "\n",
    "print(list(map(AAA,a))) # map 함수는 이렇게  형변환을 거쳐야 필요한 데어터로 받을수 있다.!!!! # for 루프 없이 이런식으로 실행가능하다.!!!!!\n",
    "print(list(map(BBB,a)))\n",
    "print(list(map(lambda n : int(n)*3,a)))\n",
    "print(list(map(lambda n : n*3,a))) # 람다의 사용법을 잘이해해보자......\n",
    "\n",
    "\n",
    "#\n",
    "\n",
    "\n",
    "\n",
    "\n"
   ]
  },
  {
   "cell_type": "code",
   "execution_count": 57,
   "metadata": {},
   "outputs": [
    {
     "name": "stdout",
     "output_type": "stream",
     "text": [
      "7\n"
     ]
    }
   ],
   "source": [
    "# 리스트와 튜플 모두 인덱스를 가진다.\n",
    "\n",
    "data = '1  ,2 ,3 , 4 5'\n",
    "a = list(data)\n",
    "print(a.index(\"3\"))\n",
    "# str 클래스 => 문자열을 난어주는 기능\n",
    "data = data.split(',') "
   ]
  },
  {
   "cell_type": "code",
   "execution_count": null,
   "metadata": {},
   "outputs": [],
   "source": [
    "# 딕트 타입\n",
    "# {키 : 값,키 :값 ,키 : 값}\n",
    "# 키 값이 중복되면 기존의 키값은 새로운 키값으로 변경된다.\n",
    "#  \n",
    "\n",
    "\n",
    "{}.keys( ) # 이렇께 keys()함수는 리스트 타입처럼 생긴 값을 호출 시켜주지만 실제 데이터를 가져오려면 list 타입으로 형변환이 필요하다.\n",
    "{}.values() # key 값에 할당되어있는 값들을 불러 오는 함수 이다.\n",
    "# 키와 값의 묶음은 items() 라는 메소드를 사용하면 편리하다. \n",
    "\n",
    "\n"
   ]
  },
  {
   "cell_type": "code",
   "execution_count": null,
   "metadata": {},
   "outputs": [],
   "source": [
    "datas ={}\n",
    "datas['birth']= '1234' \n",
    "# 이 방법으로 기존의 키값 이나 벨류 값을 바꿀수 있다.\n",
    "\n",
    "set()\n",
    "\n",
    "\"\"\"doc 스트링이다. 안녕하세요 이런 방식으로 설명 주석을 달수있습니다....\"\"\""
   ]
  },
  {
   "cell_type": "code",
   "execution_count": null,
   "metadata": {},
   "outputs": [],
   "source": [
    "sum() # 변수의 형태에 따라서 같은 이름은 가진 sum이라도 다른 기능으로 작동한다. 이것을 오버로딩이라고 한다.\n",
    "\n",
    "# 내장함수 이름을 변수 명으로선언하거나 다른 함수의 이름으로 지정해주면 안된다. 그러면 내장함수가 비활성화 된다.\n"
   ]
  },
  {
   "cell_type": "code",
   "execution_count": 62,
   "metadata": {},
   "outputs": [
    {
     "name": "stdout",
     "output_type": "stream",
     "text": [
      "<class '__main__.A'>\n",
      "<class 'type'>\n"
     ]
    }
   ],
   "source": [
    "# 클래스 : 특정 기능을 하기 위한 변수와 함수를 하나로 묶어 둔 type \n",
    "# self 키워드 \n",
    "# \n",
    "a = []\n",
    "b = []\n",
    "class A :\n",
    "    pass\n",
    "a = A()\n",
    "\n",
    "print(type(a)) \n",
    "print(type(A))"
   ]
  }
 ],
 "metadata": {
  "kernelspec": {
   "display_name": "Python 3",
   "language": "python",
   "name": "python3"
  },
  "language_info": {
   "codemirror_mode": {
    "name": "ipython",
    "version": 3
   },
   "file_extension": ".py",
   "mimetype": "text/x-python",
   "name": "python",
   "nbconvert_exporter": "python",
   "pygments_lexer": "ipython3",
   "version": "3.9.6"
  },
  "orig_nbformat": 4,
  "vscode": {
   "interpreter": {
    "hash": "31f2aee4e71d21fbe5cf8b01ff0e069b9275f58929596ceb00d14d90e3e16cd6"
   }
  }
 },
 "nbformat": 4,
 "nbformat_minor": 2
}
